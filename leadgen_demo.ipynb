{
 "cells": [
  {
   "cell_type": "markdown",
   "metadata": {},
   "source": [
    "# LEADGen AI Demonstration Notebook\n",
    "🚀 Venture Capital Lead Analysis System"
   ]
  },
  {
   "cell_type": "markdown",
   "metadata": {},
   "source": [
    "## 1. Environment Setup"
   ]
  },
  {
   "cell_type": "code",
   "execution_count": null,
   "metadata": {},
   "outputs": [],
   "source": [
    "# Install required packages\n",
    "!pip install leadgenai pandas plotly -q\n",
    "\n",
    "# Import libraries\n",
    "from leadgenai import LeadAnalyzer\n",
    "import pandas as pd\n",
    "import plotly.express as px\n",
    "from IPython.display import display, HTML\n",
    "\n",
    "print(\"✔ Packages installed and imported\")"
   ]
  },
  {
   "cell_type": "markdown",
   "metadata": {},
   "source": [
    "## 2. Initialize the Analyzer"
   ]
  },
  {
   "cell_type": "code",
   "execution_count": null,
   "metadata": {},
   "outputs": [],
   "source": [
    "# Initialize with your API key\n",
    "analyzer = LeadAnalyzer(\n",
    "    api_key=\"lg_123456789\",  # Replace with your actual key\n",
    "    max_retries=3,\n",
    "    request_delay=(1.0, 3.0)\n",
    ")\n",
    "\n",
    "print(f\"✔ Analyzer initialized (v{analyzer.version})\")"
   ]
  },
  {
   "cell_type": "markdown",
   "metadata": {},
   "source": [
    "## 3. Single Company Analysis"
   ]
  },
  {
   "cell_type": "code",
   "execution_count": null,
   "metadata": {},
   "outputs": [],
   "source": [
    "# @title Analyze a Company\n",
    "company_name = \"Anthropic\"  # @param {type:\"string\"}\n",
    "\n",
    "print(f\"🔍 Analyzing {company_name}...\")\n",
    "profile = analyzer.extract_profile(company_name)\n",
    "\n",
    "# Display summary\n",
    "display(HTML(f\"\"\"\n",
    "<h3>{company_name} Investment Summary</h3>\n",
    "<table style='width:100%'>\n",
    "  <tr><td><b>Score</b></td><td style='color:{'green' if profile['investment_score'] >=60 else 'red'}'>{profile['investment_score']}/100</td></tr>\n",
    "  <tr><td><b>Valuation</b></td><td>{profile.get('valuation','N/A')}</td></tr>\n",
    "  <tr><td><b>Growth Signals</b></td><td>{', '.join(profile['growth_signals'][:3])}...</td></tr>\n",
    "</table>\n",
    "\"\"\"))"
   ]
  },
  {
   "cell_type": "markdown",
   "metadata": {},
   "source": [
    "## 4. Interactive Visualizations"
   ]
  },
  {
   "cell_type": "code",
   "execution_count": null,
   "metadata": {},
   "outputs": [],
   "source": [
    "# Investment Score Gauge\n",
    "fig = px.gauge(\n",
    "    values=[profile['investment_score']],\n",
    "    title=f'{company_name} Investment Potential',\n",
    "    range=[0,100],\n",
    "    color_discrete_sequence=['green' if profile['investment_score']>=60 else 'red']\n",
    ")\n",
    "fig.show()\n",
    "\n",
    "# Funding Timeline\n",
    "if 'funding_rounds' in profile and profile['funding_rounds']:\n",
    "    funding_df = pd.DataFrame(profile['funding_rounds'])\n",
    "    px.timeline(\n",
    "        funding_df, \n",
    "        x_start='date', \n",
    "        y='round', \n",
    "        color='amount_usd',\n",
    "        title='Funding History'\n",
    "    ).show()"
   ]
  },
  {
   "cell_type": "markdown",
   "metadata": {},
   "source": [
    "## 5. Batch Analysis Demo"
   ]
  },
  {
   "cell_type": "code",
   "execution_count": null,
   "metadata": {},
   "outputs": [],
   "source": [
    "# @title Compare Multiple Companies\n",
    "companies = \"OpenAI, Anthropic, Cohere\"  # @param {type:\"string\"}\n",
    "company_list = [c.strip() for c in companies.split(',')]\n",
    "\n",
    "print(\"⏳ Analyzing companies...\")\n",
    "results = []\n",
    "for company in company_list:\n",
    "    results.append(analyzer.extract_profile(company))\n",
    "    \n",
    "# Create comparison table\n",
    "compare_df = pd.DataFrame(results)[['company_name', 'investment_score', 'valuation']]\n",
    "display(HTML(compare_df.to_html(index=False)))"
   ]
  },
  {
   "cell_type": "markdown",
   "metadata": {},
   "source": [
    "## 6. Report Generation"
   ]
  },
  {
   "cell_type": "code",
   "execution_count": null,
   "metadata": {},
   "outputs": [],
   "source": [
    "# @title Generate Report\n",
    "report_format = \"markdown\"  # @param [\"markdown\", \"json\", \"html\"]\n",
    "\n",
    "report = analyzer.generate_report(\n",
    "    company=company_name,\n",
    "    format=report_format\n",
    ")\n",
    "\n",
    "# Preview and save\n",
    "print(f\"📝 {report_format.upper()} Report Generated\")\n",
    "with open(f\"{company_name}_report.{report_format}\", \"w\") as f:\n",
    "    f.write(report)\n",
    "    \n",
    "if report_format == \"markdown\":\n",
    "    display(Markdown(report))\n",
    "elif report_format == \"json\":\n",
    "    display(JSON(report))\n",
    "else:\n",
    "    display(HTML(report))"
   ]
  },
  {
   "cell_type": "markdown",
   "metadata": {},
   "source": [
    "## Key Features Demonstrated\n",
    "- Single company deep analysis\n",
    "- Interactive visualizations\n",
    "- Batch comparison\n",
    "- Multi-format reporting\n",
    "\n",
    "⏱️ Total runtime: ~2-3 minutes"
   ]
  }
 ],
 "metadata": {
  "colab": {
   "provenance": []
  },
  "kernelspec": {
   "display_name": "Python 3",
   "name": "python3"
  },
  "language_info": {
   "name": "python"
  }
 },
 "nbformat": 4,
 "nbformat_minor": 0
}